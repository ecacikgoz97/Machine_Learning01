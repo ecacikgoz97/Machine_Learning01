{
 "cells": [
  {
   "cell_type": "markdown",
   "metadata": {},
   "source": [
    "# Multivariate Parametric Classification\n",
    "## Emre Can Açıkgöz / 63492\n",
    "### November 9, 2020"
   ]
  },
  {
   "cell_type": "code",
   "execution_count": 1,
   "metadata": {},
   "outputs": [],
   "source": [
    "import matplotlib.pyplot as plt\n",
    "import numpy as np\n",
    "import pandas as pd"
   ]
  },
  {
   "cell_type": "markdown",
   "metadata": {},
   "source": [
    "# Step 1: Generate random data points"
   ]
  },
  {
   "cell_type": "code",
   "execution_count": 2,
   "metadata": {},
   "outputs": [],
   "source": [
    "np.random.seed(421)\n",
    "# mean parameters\n",
    "class_means = np.array([[+0.0, +2.5],\n",
    "                        [-2.5, -2.0],\n",
    "                        [+2.5, -2.0]])\n",
    "# covariance parameters\n",
    "class_covariances = np.array([[[+3.2, +0.0], \n",
    "                               [+0.0, +1.2]],\n",
    "                              [[+1.2, -0.8], \n",
    "                               [-0.8, +1.2]],\n",
    "                              [[+1.2, +0.8], \n",
    "                               [+0.8, +1.2]]])\n",
    "# sample sizes\n",
    "class_sizes = np.array([120, 90, 90])"
   ]
  },
  {
   "cell_type": "markdown",
   "metadata": {},
   "source": [
    "## Data Generation"
   ]
  },
  {
   "cell_type": "code",
   "execution_count": 3,
   "metadata": {},
   "outputs": [],
   "source": [
    "# generate random samples\n",
    "points1 = np.random.multivariate_normal(class_means[0,:], class_covariances[0,:,:], class_sizes[0])\n",
    "points2 = np.random.multivariate_normal(class_means[1,:], class_covariances[1,:,:], class_sizes[1])\n",
    "points3 = np.random.multivariate_normal(class_means[2,:], class_covariances[2,:,:], class_sizes[2])\n",
    "X = np.vstack((points1, points2, points3))\n",
    "\n",
    "# generate corresponding labels\n",
    "y = np.concatenate((np.repeat(1, class_sizes[0]), np.repeat(2, class_sizes[1]), np.repeat(3, class_sizes[2])))"
   ]
  },
  {
   "cell_type": "markdown",
   "metadata": {},
   "source": [
    "## Exporting Data"
   ]
  },
  {
   "cell_type": "code",
   "execution_count": 4,
   "metadata": {},
   "outputs": [],
   "source": [
    "# write data to a file\n",
    "np.savetxt(\"data_set.csv\",  np.hstack((X, y[:, None])), fmt = \"%f,%f,%d\")"
   ]
  },
  {
   "cell_type": "markdown",
   "metadata": {},
   "source": [
    "## Plotting Data"
   ]
  },
  {
   "cell_type": "code",
   "execution_count": 5,
   "metadata": {},
   "outputs": [
    {
     "data": {
      "image/png": "[encoded data removed]",
      "text/plain": [
       "<Figure size 432x432 with 1 Axes>"
      ]
     },
     "metadata": {
      "needs_background": "light"
     },
     "output_type": "display_data"
    }
   ],
   "source": [
    "# plot data points generated\n",
    "plt.figure(figsize = (6,6))\n",
    "plt.plot(points1[:,0], points1[:,1], \"r.\", markersize = 10)\n",
    "plt.plot(points2[:,0], points2[:,1], \"g.\", markersize = 10)\n",
    "plt.plot(points3[:,0], points3[:,1], \"b.\", markersize = 10)\n",
    "plt.xlabel(\"x1\")\n",
    "plt.ylabel(\"x2\")\n",
    "plt.show()"
   ]
  },
  {
   "cell_type": "markdown",
   "metadata": {},
   "source": [
    "## Importing Data"
   ]
  },
  {
   "cell_type": "code",
   "execution_count": 6,
   "metadata": {},
   "outputs": [],
   "source": [
    "# read data into memory\n",
    "data_set = np.genfromtxt(\"data_set.csv\", delimiter = \",\")\n",
    "\n",
    "# get X and y values\n",
    "X = data_set[:,[0,1]]\n",
    "y_truth = data_set[:,2].astype(int)\n",
    "\n",
    "# get number of classes and number of samples\n",
    "K = np.max(y_truth)\n",
    "N = data_set.shape[0]"
   ]
  },
  {
   "cell_type": "markdown",
   "metadata": {},
   "source": [
    "# Part 2: Estimate Parameters"
   ]
  },
  {
   "cell_type": "markdown",
   "metadata": {},
   "source": [
    "## Parameter Estimation"
   ]
  },
  {
   "cell_type": "markdown",
   "metadata": {},
   "source": [
    "$\\mu_{c}^{\\star} = \\dfrac{\\sum\\limits_{i = 1}^{N} x_{i} \\mathbb{1}(y_{i} = c)}{\\sum\\limits_{i = 1}^{N} \\mathbb{1}(y_{i} = c)}$"
   ]
  },
  {
   "cell_type": "code",
   "execution_count": 7,
   "metadata": {},
   "outputs": [
    {
     "name": "stdout",
     "output_type": "stream",
     "text": [
      "[array([0.04453807, 2.61225132]), array([-2.48491072, -1.94817984]), array([ 2.54954733, -1.98880993])]\n"
     ]
    }
   ],
   "source": [
    "# calculate sample means\n",
    "sample_means = [np.mean(X[y_truth == (c+1)], axis=0) for c in range(K)]\n",
    "print(sample_means)"
   ]
  },
  {
   "cell_type": "code",
   "execution_count": 8,
   "metadata": {},
   "outputs": [
    {
     "name": "stdout",
     "output_type": "stream",
     "text": [
      "[0.04453807 2.61225132]\n",
      "[-2.48491072 -1.94817984]\n",
      "[ 2.54954733 -1.98880993]\n"
     ]
    }
   ],
   "source": [
    "sample_means1 = np.mean(X[y_truth == (1)], axis=0)\n",
    "sample_means2 = np.mean(X[y_truth == (2)], axis=0)\n",
    "sample_means3 = np.mean(X[y_truth == (3)], axis=0)\n",
    "print(sample_means1)\n",
    "print(sample_means2)\n",
    "print(sample_means3)"
   ]
  },
  {
   "cell_type": "markdown",
   "metadata": {},
   "source": [
    "${\\sum}^{\\star} = \\dfrac{\\sum\\limits_{i = 1}^{N} \\mathbb{1}(y_{i} = c)(x_{i} - \\mu_{c}^{\\star})(x_{i} - \\mu_{c}^{\\star})^{T}}{\\sum\\limits_{i = 1}^{N} \\mathbb{1}(y_{i} = c)}$"
   ]
  },
  {
   "cell_type": "code",
   "execution_count": 10,
   "metadata": {},
   "outputs": [
    {
     "data": {
      "text/plain": [
       "[array([[2.83985863, 0.22625047],\n",
       "        [0.22625047, 1.01248432]]),\n",
       " array([[ 1.54796964, -1.2021398 ],\n",
       "        [-1.2021398 ,  1.59048418]]),\n",
       " array([[1.41502264, 0.93329243],\n",
       "        [0.93329243, 1.2618516 ]])]"
      ]
     },
     "execution_count": 10,
     "metadata": {},
     "output_type": "execute_result"
    }
   ],
   "source": [
    "# calculate sample covariances\n",
    "sample_covariances1 = np.cov(X[y_truth == (1)].T)\n",
    "sample_covariances2 = np.cov(X[y_truth == (2)].T)\n",
    "sample_covariances3 = np.cov(X[y_truth == (3)].T)\n",
    "sample_covariances = np.vstack([sample_covariances1,sample_covariances2,sample_covariances3])\n",
    "sample_covariances"
   ]
  },
  {
   "cell_type": "code",
   "execution_count": 11,
   "metadata": {},
   "outputs": [
    {
     "data": {
      "text/plain": [
       "array([[ 2.83985863,  0.22625047],\n",
       "       [ 0.22625047,  1.01248432],\n",
       "       [ 1.54796964, -1.2021398 ],\n",
       "       [-1.2021398 ,  1.59048418],\n",
       "       [ 1.41502264,  0.93329243],\n",
       "       [ 0.93329243,  1.2618516 ]])"
      ]
     },
     "execution_count": 11,
     "metadata": {},
     "output_type": "execute_result"
    }
   ],
   "source": [
    "sample_covariances = np.vstack([sample_covariances1,sample_covariances2,sample_covariances3])\n",
    "sample_covariances"
   ]
  },
  {
   "cell_type": "code",
   "execution_count": 11,
   "metadata": {},
   "outputs": [
    {
     "data": {
      "text/plain": [
       "[array([[2.83985863, 0.22625047],\n",
       "        [0.22625047, 1.01248432]]),\n",
       " array([[ 1.54796964, -1.2021398 ],\n",
       "        [-1.2021398 ,  1.59048418]]),\n",
       " array([[1.41502264, 0.93329243],\n",
       "        [0.93329243, 1.2618516 ]])]"
      ]
     },
     "execution_count": 11,
     "metadata": {},
     "output_type": "execute_result"
    }
   ],
   "source": [
    "samp_cov = [np.cov(X[y_truth == (c+1)].T) for c in range(K)]\n",
    "samp_cov"
   ]
  },
  {
   "cell_type": "markdown",
   "metadata": {},
   "source": [
    "$\\hat{P}(y_{i} = c) = \\dfrac{\\sum\\limits_{i = 1}^{N} \\mathbb{1}(y_{i} = c)}{N}$"
   ]
  },
  {
   "cell_type": "code",
   "execution_count": 12,
   "metadata": {},
   "outputs": [
    {
     "name": "stdout",
     "output_type": "stream",
     "text": [
      "[0.4, 0.3, 0.3]\n"
     ]
    }
   ],
   "source": [
    "# calculate prior probabilities\n",
    "class_priors = [np.mean(y == (c + 1)) for c in range(K)]\n",
    "print(class_priors)"
   ]
  },
  {
   "cell_type": "markdown",
   "metadata": {},
   "source": [
    "# Part 3: Parametric Classification"
   ]
  },
  {
   "cell_type": "markdown",
   "metadata": {},
   "source": [
    "## Parameters"
   ]
  },
  {
   "cell_type": "code",
   "execution_count": 13,
   "metadata": {},
   "outputs": [],
   "source": [
    "# Initialize parameters\n",
    "W = [-0.5 * np.linalg.inv(sample_covariances[c]) for c in range(K)]\n",
    "w = [np.matmul(np.linalg.inv(sample_covariances[c]), sample_means[c]) for c in range(K)]\n",
    "w0 = [(-0.5 * np.matmul(np.matmul(sample_means[c].T, np.linalg.inv(sample_covariances[c])), sample_means[c]) - 0.5 * np.log(np.linalg.det(sample_covariances[c])) + class_priors[c]) for c in range(K)]"
   ]
  },
  {
   "cell_type": "markdown",
   "metadata": {},
   "source": [
    "## Discriminant Function"
   ]
  },
  {
   "cell_type": "markdown",
   "metadata": {},
   "source": [
    "$\\begin{align*}\n",
    "g_{c}(x) &= \\log p(x | y = c) + \\log P(y = c)\\\\\n",
    "\\end{align*}$"
   ]
  },
  {
   "cell_type": "markdown",
   "metadata": {},
   "source": [
    "$\\begin{align*}\n",
    "g_{c}(x) &=\\boldsymbol{x}^{\\top}\\boldsymbol{W_{c}} \\boldsymbol{x} + \\boldsymbol{w_{c}}^{\\top}\\boldsymbol{x} + w_{0}\n",
    "\\end{align*}$"
   ]
  },
  {
   "cell_type": "code",
   "execution_count": 14,
   "metadata": {},
   "outputs": [],
   "source": [
    "# Class prediction list\n",
    "y_predict=[]\n",
    "\n",
    "# Implement discriminant function and take the class predictions to a list using paramters\n",
    "for element in X:\n",
    "    list_prob = [np.matmul(np.matmul(element.T, W[c]), element) + np.matmul(w[c].T, element) + w0[c] for c in range(K)]\n",
    "    y_predict.append(list_prob.index(max(list_prob)) + 1)"
   ]
  },
  {
   "cell_type": "code",
   "execution_count": 15,
   "metadata": {},
   "outputs": [],
   "source": [
    "# Make array list\n",
    "y_predicted = np.asarray(y_predict)"
   ]
  },
  {
   "cell_type": "markdown",
   "metadata": {},
   "source": [
    "## Confusion Matrix"
   ]
  },
  {
   "cell_type": "code",
   "execution_count": 16,
   "metadata": {},
   "outputs": [
    {
     "name": "stdout",
     "output_type": "stream",
     "text": [
      "y_truth        1   2   3\n",
      "y_predicted             \n",
      "1            120   1   0\n",
      "2              0  89   1\n",
      "3              0   0  89\n"
     ]
    }
   ],
   "source": [
    "# Confusion matrix\n",
    "confusion_matrix = pd.crosstab(y_predicted, y_truth, rownames = ['y_predicted'], colnames = ['y_truth'])\n",
    "print(confusion_matrix)"
   ]
  },
  {
   "cell_type": "markdown",
   "metadata": {},
   "source": [
    "# Part 4: Visualization"
   ]
  },
  {
   "cell_type": "markdown",
   "metadata": {},
   "source": [
    "## Plot y_predictions and Specify Missclassifieds"
   ]
  },
  {
   "cell_type": "code",
   "execution_count": 17,
   "metadata": {},
   "outputs": [
    {
     "data": {
      "image/png": "[encoded data removed]",
      "text/plain": [
       "<Figure size 432x432 with 1 Axes>"
      ]
     },
     "metadata": {
      "needs_background": "light"
     },
     "output_type": "display_data"
    }
   ],
   "source": [
    "# Data projected figure with missclassified ones as we can check form Confusion Matrix\n",
    "plt.figure(figsize = (6, 6))\n",
    "plt.plot(X[y_truth == 1, 0], X[y_truth == 1, 1], \"r.\", markersize = 10)\n",
    "plt.plot(X[y_truth == 2, 0], X[y_truth == 2, 1], \"g.\", markersize = 10)\n",
    "plt.plot(X[y_truth == 3, 0], X[y_truth == 3, 1], \"b.\", markersize = 10)\n",
    "plt.plot(X[y_predicted != y_truth, 0], X[y_predicted != y_truth, 1], \"ko\", markersize = 12, fillstyle = \"none\")\n",
    "plt.xlabel(\"x1\")\n",
    "plt.ylabel(\"x2\")\n",
    "plt.show()"
   ]
  },
  {
   "cell_type": "markdown",
   "metadata": {},
   "source": [
    "## Draw Decision Boundaries"
   ]
  },
  {
   "cell_type": "code",
   "execution_count": 18,
   "metadata": {},
   "outputs": [
    {
     "data": {
      "image/png": "[encoded data removed]",
      "text/plain": [
       "<Figure size 432x432 with 1 Axes>"
      ]
     },
     "metadata": {
      "needs_background": "light"
     },
     "output_type": "display_data"
    }
   ],
   "source": [
    "# Evaluate discriminant function on a grid\n",
    "x1_interval = np.linspace(-6, +6, 1201)\n",
    "x2_interval = np.linspace(-6, +6, 1201)\n",
    "x1_grid, x2_grid = np.meshgrid(x1_interval, x2_interval)\n",
    "discriminant_values = np.zeros((len(x1_interval), len(x2_interval), K))\n",
    "for c in range(3): \n",
    "    discriminant_values[:,:,c] = x1_grid*(W[c][0,0]*x1_grid + W[c][0,1]) + x2_grid.T*(W[c][1,0]*x2_grid +W[c][1,1]) + x1_grid*w[c][0].T + x2_grid*w[c][1].T + w0[c]\n",
    "        \n",
    "A = discriminant_values[:,:,0]\n",
    "B = discriminant_values[:,:,1]\n",
    "C = discriminant_values[:,:,2]\n",
    "A[(A < B) & (A < C)] = np.nan\n",
    "B[(B < A) & (B < C)] = np.nan\n",
    "C[(C < A) & (C < B)] = np.nan\n",
    "discriminant_values[:,:,0] = A\n",
    "discriminant_values[:,:,1] = B\n",
    "discriminant_values[:,:,2] = C\n",
    "    \n",
    "plt.figure(figsize = (6, 6))\n",
    "plt.plot(X[y_truth == 1, 0], X[y_truth == 1, 1], \"r.\", markersize = 10)\n",
    "plt.plot(X[y_truth == 2, 0], X[y_truth == 2, 1], \"g.\", markersize = 10)\n",
    "plt.plot(X[y_truth == 3, 0], X[y_truth == 3, 1], \"b.\", markersize = 10)\n",
    "plt.plot(X[y_predicted != y_truth, 0], X[y_predicted != y_truth, 1], \"ko\", markersize = 12, fillstyle = \"none\")\n",
    "plt.contour(x1_grid, x2_grid, discriminant_values[:,:,0] - discriminant_values[:,:,1], levels = 0, colors = \"k\", linewidths =3)\n",
    "plt.contour(x1_grid, x2_grid, discriminant_values[:,:,0] - discriminant_values[:,:,2], levels = 0, colors = \"k\", linewidths =3)\n",
    "plt.contour(x1_grid, x2_grid, discriminant_values[:,:,1] - discriminant_values[:,:,2], levels = 0, colors = \"k\", linewidths =3)\n",
    "A[(A < B) | (A < C)] = np.nan\n",
    "B[(B < A) | (B < C)] = np.nan\n",
    "C[(C < A) | (C < B)] = np.nan\n",
    "plt.contourf(x1_grid, x2_grid, A, levels=0, alpha=0.25, colors='red')\n",
    "plt.contourf(x1_grid, x2_grid, B, levels=0, alpha=0.25, colors='green')\n",
    "plt.contourf(x1_grid, x2_grid, C, levels=0, alpha=0.25, colors='blue')\n",
    "plt.xlabel(\"$x_1$\")\n",
    "plt.ylabel(\"$x_2$\")\n",
    "plt.show()"
   ]
  },
  {
   "cell_type": "code",
   "execution_count": null,
   "metadata": {},
   "outputs": [],
   "source": []
  }
 ],
 "metadata": {
  "kernelspec": {
   "display_name": "Python 3",
   "language": "python",
   "name": "python3"
  },
  "language_info": {
   "codemirror_mode": {
    "name": "ipython",
    "version": 3
   },
   "file_extension": ".py",
   "mimetype": "text/x-python",
   "name": "python",
   "nbconvert_exporter": "python",
   "pygments_lexer": "ipython3",
   "version": "3.8.5"
  }
 },
 "nbformat": 4,
 "nbformat_minor": 4
}
