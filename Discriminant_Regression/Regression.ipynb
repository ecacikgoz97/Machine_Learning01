{
 "cells": [
  {
   "cell_type": "markdown",
   "metadata": {},
   "source": [
    "# Discriminant by Regression\n",
    "## Emre Can Açıkgöz\n",
    "### November 16, 2020"
   ]
  },
  {
   "cell_type": "code",
   "execution_count": 1,
   "metadata": {},
   "outputs": [],
   "source": [
    "import matplotlib.pyplot as plt\n",
    "import numpy as np\n",
    "import pandas as pd\n",
    "\n",
    "def safelog(x):\n",
    "    return(np.log(x + 1e-100))"
   ]
  },
  {
   "cell_type": "markdown",
   "metadata": {},
   "source": [
    "# Part1: Collect Dataset"
   ]
  },
  {
   "cell_type": "markdown",
   "metadata": {},
   "source": [
    "## Importing Data"
   ]
  },
  {
   "cell_type": "code",
   "execution_count": 2,
   "metadata": {},
   "outputs": [],
   "source": [
    "# Import the Dataset\n",
    "X = np.genfromtxt(\"data_set_images.csv\", delimiter = \",\").astype(int)\n",
    "y0 = np.genfromtxt(\"data_set_labels.csv\", delimiter = \",\", dtype = \"str\")\n",
    "\n",
    "# Data Cleaning for extra ('') punctuations\n",
    "y1=[]\n",
    "for i in y0:\n",
    "    y1.append(i.strip('\"'))\n",
    "\n",
    "# Convert str data into int 1 to 5\n",
    "y = np.asarray(y1)\n",
    "y = np.asarray([ord(ch) - ord('A') + 1 for ch in y])\n",
    "\n",
    "# Get number of classes and number of samples\n",
    "K = np.max(y)\n",
    "N = X.shape[0]\n",
    "\n",
    "# One-of-K encoding\n",
    "Y_truth = np.zeros((N, K)).astype(int)\n",
    "Y_truth[range(N), y - 1] = 1"
   ]
  },
  {
   "cell_type": "markdown",
   "metadata": {},
   "source": [
    "## Create Training Set and Test Set"
   ]
  },
  {
   "cell_type": "code",
   "execution_count": 3,
   "metadata": {},
   "outputs": [
    {
     "name": "stdout",
     "output_type": "stream",
     "text": [
      "(125, 320)\n",
      "(70, 320)\n",
      "(125, 5)\n",
      "(70, 5)\n"
     ]
    }
   ],
   "source": [
    "# Divide data set by assigning first 25 to Training Set and remaining 14 to Test Set\n",
    "\n",
    "# For Class A\n",
    "AX_Train = X[:25]\n",
    "Ay_Train = Y_truth[:25]\n",
    "AX_Test = X[25:39]\n",
    "Ay_Test = Y_truth[25:39]\n",
    "\n",
    "# For Class B\n",
    "BX_Train = X[39:64]\n",
    "By_Train = Y_truth[39:64]\n",
    "BX_Test = X[64:78]\n",
    "By_Test = Y_truth[64:78]\n",
    "\n",
    "# For Class C\n",
    "CX_Train = X[78:103]\n",
    "Cy_Train = Y_truth[78:103]\n",
    "CX_Test = X[103:117]\n",
    "Cy_Test = Y_truth[103:117]\n",
    "\n",
    "# For Class D\n",
    "DX_Train = X[117:142]\n",
    "Dy_Train = Y_truth[117:142]\n",
    "DX_Test = X[142:156]\n",
    "Dy_Test = Y_truth[142:156]\n",
    "\n",
    "# For Class E\n",
    "EX_Train = X[156:181]\n",
    "Ey_Train = Y_truth[156:181]\n",
    "EX_Test = X[181:195]\n",
    "Ey_Test = Y_truth[181:195]\n",
    "\n",
    "# Stack Training Data\n",
    "X_Train = np.vstack((AX_Train, BX_Train, CX_Train, DX_Train, EX_Train))\n",
    "y_Train = np.vstack((Ay_Train, By_Train, Cy_Train, Dy_Train, Ey_Train))\n",
    "\n",
    "# Stack Test Data\n",
    "X_Test = np.vstack((AX_Test, BX_Test, CX_Test, DX_Test, EX_Test))\n",
    "y_Test = np.vstack((Ay_Test, By_Test, Cy_Test, Dy_Test, Ey_Test))\n",
    "\n",
    "print(X_Train.shape)\n",
    "print(X_Test.shape)\n",
    "print(y_Train.shape)\n",
    "print(y_Test.shape)"
   ]
  },
  {
   "cell_type": "markdown",
   "metadata": {},
   "source": [
    "# Part2: Multiclass Classification"
   ]
  },
  {
   "cell_type": "markdown",
   "metadata": {},
   "source": [
    "## Sigmoid Function"
   ]
  },
  {
   "cell_type": "markdown",
   "metadata": {},
   "source": [
    "$\\textrm{sigmoid}(\\boldsymbol{w}^{\\top} \\boldsymbol{x} + w_{0}) = \\dfrac{1}{1 + \\exp\\left[-(\\boldsymbol{w}^{\\top} \\boldsymbol{x} + w_{0})\\right]}$"
   ]
  },
  {
   "cell_type": "code",
   "execution_count": 4,
   "metadata": {},
   "outputs": [
    {
     "data": {
      "image/png": "[encoded data removed]",
      "text/plain": [
       "<Figure size 720x432 with 1 Axes>"
      ]
     },
     "metadata": {
      "needs_background": "light"
     },
     "output_type": "display_data"
    }
   ],
   "source": [
    "# Define the sigmoid function\n",
    "def sigmoid(X, W, w0):\n",
    "    return(1 / (1 + np.exp(-(np.matmul(X, W) + w0))))\n",
    "\n",
    "draw_seq = np.linspace(-10, +10, 2001)\n",
    "plt.figure(figsize = (10, 6))\n",
    "plt.plot(draw_seq, 1 / (1 + np.exp(-draw_seq)), \"r-\")\n",
    "plt.xlabel(\"x\")\n",
    "plt.ylabel(\"sigmoid(x)\")\n",
    "plt.show()\n"
   ]
  },
  {
   "cell_type": "markdown",
   "metadata": {},
   "source": [
    "## Gradient Functions"
   ]
  },
  {
   "cell_type": "markdown",
   "metadata": {},
   "source": [
    "$\\triangle\\boldsymbol{W}_{c} = -\\sum\\limits_{i = 1}^{N}  \\left(y_{ic}-\\widehat{y}_{ic} \\right) \\widehat{y}_{ic} (1-\\widehat{y}_{ic})\\boldsymbol {x_{i}}$\n",
    "\n",
    "$\\triangle\\boldsymbol{w}_{{\\boldsymbol{0}}c} = -\\sum\\limits_{i = 1}^{N}  \\left( y_{ic}-\\widehat{y}_{ic} \\right) \\widehat{y}_{ic} (1-\\widehat{y}_{ic})$"
   ]
  },
  {
   "cell_type": "code",
   "execution_count": 5,
   "metadata": {},
   "outputs": [],
   "source": [
    "# Define the gradient functions\n",
    "def gradient_W(X, y_truth, y_predicted):\n",
    "    return(np.asarray([-np.sum(np.repeat((y_truth[:,c] - y_predicted[:,c])[:, None], X.shape[1], axis = 1)*np.repeat((y_predicted[:,c])[:, None], X.shape[1], axis = 1)* np.repeat((1 - y_predicted[:,c])[:, None], X.shape[1], axis = 1) * X, axis = 0) for c in range(K)]).transpose())\n",
    "\n",
    "def gradient_w0(Y_truth, Y_predicted):\n",
    "    return(-np.sum((Y_truth - Y_predicted) * (Y_predicted) * (1 - Y_predicted), axis = 0))"
   ]
  },
  {
   "cell_type": "markdown",
   "metadata": {},
   "source": [
    "## Algorithm Parameters"
   ]
  },
  {
   "cell_type": "code",
   "execution_count": 6,
   "metadata": {},
   "outputs": [],
   "source": [
    "# Set learning parameters\n",
    "eta = 0.01\n",
    "epsilon = 1e-3"
   ]
  },
  {
   "cell_type": "markdown",
   "metadata": {},
   "source": [
    "## Parameter Initialization"
   ]
  },
  {
   "cell_type": "code",
   "execution_count": 7,
   "metadata": {},
   "outputs": [],
   "source": [
    "# Randomly initalize W and w0\n",
    "np.random.seed(421)\n",
    "W = np.random.uniform(low = -0.01, high = 0.01, size = (X_Train.shape[1], K))\n",
    "w0 = np.random.uniform(low = -0.01, high = 0.01, size = (1, K))"
   ]
  },
  {
   "cell_type": "markdown",
   "metadata": {},
   "source": [
    "## Iterative Algorithm"
   ]
  },
  {
   "cell_type": "code",
   "execution_count": 8,
   "metadata": {},
   "outputs": [
    {
     "name": "stdout",
     "output_type": "stream",
     "text": [
      "[[-0.00915367 -0.08645876 -0.02578106  0.20455709 -0.03307405]\n",
      " [-0.10506662  0.00633131 -0.18885144  0.30735395  0.05693371]\n",
      " [-0.11467088  0.10982635 -0.20973779  0.2518624   0.07195246]\n",
      " ...\n",
      " [ 0.05371357  0.20412334  0.06239588 -0.23018231 -0.16727905]\n",
      " [ 0.0823532  -0.26021211  0.04268994 -0.27543447  0.01159927]\n",
      " [ 0.10247887 -0.38671481  0.13127681 -0.22816525 -0.01409047]]\n",
      "[[-0.06222833 -0.29212493  0.00396509 -0.04846541 -0.25394969]]\n"
     ]
    }
   ],
   "source": [
    "# Learn W and w0 using gradient descent\n",
    "iteration = 1\n",
    "objective_values = []\n",
    "\n",
    "while 1:\n",
    "    \n",
    "    Y_predicted = sigmoid(X_Train, W, w0)\n",
    "    objective_values = np.append(objective_values, 0.5 * np.sum(((y_Train - Y_predicted)**2)))\n",
    "\n",
    "    W_old = W\n",
    "    w0_old = w0\n",
    "\n",
    "    W = W - eta * gradient_W(X_Train, y_Train , Y_predicted)\n",
    "    w0 = w0 - eta * gradient_w0(y_Train, Y_predicted)\n",
    "\n",
    "    if np.sqrt(np.sum((w0 - w0_old))**2 + np.sum((W - W_old)**2)) < epsilon:\n",
    "        break\n",
    "\n",
    "    iteration = iteration + 1\n",
    "print(W)\n",
    "print(w0)"
   ]
  },
  {
   "cell_type": "markdown",
   "metadata": {},
   "source": [
    "## Convergence"
   ]
  },
  {
   "cell_type": "code",
   "execution_count": 9,
   "metadata": {},
   "outputs": [
    {
     "data": {
      "image/png": "[encoded data removed]",
      "text/plain": [
       "<Figure size 720x432 with 1 Axes>"
      ]
     },
     "metadata": {
      "needs_background": "light"
     },
     "output_type": "display_data"
    }
   ],
   "source": [
    "# Plot objective function during iterations\n",
    "plt.figure(figsize = (10, 6))\n",
    "plt.plot(range(1, iteration + 1), objective_values, \"k-\")\n",
    "plt.xlabel(\"Iteration\")\n",
    "plt.ylabel(\"Error\")\n",
    "plt.show()"
   ]
  },
  {
   "cell_type": "markdown",
   "metadata": {},
   "source": [
    "# Part3: Training Performance"
   ]
  },
  {
   "cell_type": "markdown",
   "metadata": {},
   "source": [
    "## Confusion Matrix Training Set"
   ]
  },
  {
   "cell_type": "code",
   "execution_count": 10,
   "metadata": {},
   "outputs": [
    {
     "name": "stdout",
     "output_type": "stream",
     "text": [
      "y_train       1   2   3   4   5\n",
      "y_predicted                    \n",
      "1            25   0   0   0   0\n",
      "2             0  25   0   0   0\n",
      "3             0   0  25   0   0\n",
      "4             0   0   0  25   0\n",
      "5             0   0   0   0  25\n"
     ]
    }
   ],
   "source": [
    "# Train labels Orginal (without One-Hot Encoding)\n",
    "yOrg_Train = np.hstack((y[:25], y[39:64], y[78:103], y[117:142], y[156:181]))\n",
    "\n",
    "# Calculate confusion matrix\n",
    "y_predicted = np.argmax(Y_predicted, axis = 1) + 1\n",
    "confusion_matrix = pd.crosstab(y_predicted, yOrg_Train, rownames = ['y_predicted'], colnames = ['y_train'])\n",
    "print(confusion_matrix)"
   ]
  },
  {
   "cell_type": "markdown",
   "metadata": {},
   "source": [
    "## Confusion Matrix Test Set "
   ]
  },
  {
   "cell_type": "code",
   "execution_count": 11,
   "metadata": {},
   "outputs": [],
   "source": [
    "# Sigmoid with Test Data\n",
    "Y_predicted_Test = sigmoid(X_Test, W, w0)"
   ]
  },
  {
   "cell_type": "code",
   "execution_count": 12,
   "metadata": {},
   "outputs": [
    {
     "name": "stdout",
     "output_type": "stream",
     "text": [
      "y_test        1   2   3   4   5\n",
      "y_predicted                    \n",
      "1            13   1   0   0   0\n",
      "2             1  11   0   0   2\n",
      "3             0   0  14   0   0\n",
      "4             0   1   0  14   0\n",
      "5             0   1   0   0  12\n"
     ]
    }
   ],
   "source": [
    "# Test labels Orginal (without One-Hot Encoding)\n",
    "yOrg_Test = np.hstack((y[25:39], y[64:78], y[103:117], y[142:156], y[181:195]))\n",
    "\n",
    "# Calculate confusion matrix\n",
    "y_predicted_Test = np.argmax(Y_predicted_Test, axis = 1) + 1\n",
    "confusion_matrix = pd.crosstab(y_predicted_Test, yOrg_Test, rownames = ['y_predicted'], colnames = ['y_test'])\n",
    "print(confusion_matrix)"
   ]
  },
  {
   "cell_type": "code",
   "execution_count": null,
   "metadata": {},
   "outputs": [],
   "source": []
  },
  {
   "cell_type": "code",
   "execution_count": null,
   "metadata": {},
   "outputs": [],
   "source": []
  }
 ],
 "metadata": {
  "kernelspec": {
   "display_name": "Python 3",
   "language": "python",
   "name": "python3"
  },
  "language_info": {
   "codemirror_mode": {
    "name": "ipython",
    "version": 3
   },
   "file_extension": ".py",
   "mimetype": "text/x-python",
   "name": "python",
   "nbconvert_exporter": "python",
   "pygments_lexer": "ipython3",
   "version": "3.8.5"
  }
 },
 "nbformat": 4,
 "nbformat_minor": 4
}
