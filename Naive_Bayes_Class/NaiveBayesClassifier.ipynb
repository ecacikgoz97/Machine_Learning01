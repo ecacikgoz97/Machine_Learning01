{
 "cells": [
  {
   "cell_type": "markdown",
   "metadata": {},
   "source": [
    "# Naive Bayes' Classifier\n",
    "## Emre Can Açıkgöz\n",
    "### November 23, 2020"
   ]
  },
  {
   "cell_type": "code",
   "execution_count": 1,
   "metadata": {},
   "outputs": [],
   "source": [
    "import matplotlib.pyplot as plt\n",
    "import numpy as np\n",
    "import pandas as pd\n",
    "from PIL import Image\n",
    "\n",
    "def safelog(x):\n",
    "    return(np.log(x + 1e-100))"
   ]
  },
  {
   "cell_type": "markdown",
   "metadata": {},
   "source": [
    "# Step1: Collect Dataset"
   ]
  },
  {
   "cell_type": "code",
   "execution_count": 2,
   "metadata": {},
   "outputs": [],
   "source": [
    "# Import the Dataset\n",
    "X = np.genfromtxt(\"data_set_images.csv\", delimiter = \",\").astype(int)\n",
    "y0 = np.genfromtxt(\"data_set_labels.csv\", delimiter = \",\", dtype = \"str\")\n",
    "\n",
    "# Data Cleaning for extra ('') punctuations\n",
    "y1=[]\n",
    "for i in y0:\n",
    "    y1.append(i.strip('\"'))\n",
    "\n",
    "# Convert str data into int 1 to 5\n",
    "y2 = np.asarray(y1)\n",
    "y = np.asarray([ord(ch) - ord('A') + 1 for ch in y2])\n",
    "\n",
    "K = np.max(y)"
   ]
  },
  {
   "cell_type": "markdown",
   "metadata": {},
   "source": [
    "# Step2: Create Training Set and Test Set"
   ]
  },
  {
   "cell_type": "code",
   "execution_count": 3,
   "metadata": {},
   "outputs": [],
   "source": [
    "# Divide data set by assigning first 25 to Training Set and remaining 14 to Test Set\n",
    "\n",
    "# For Class A\n",
    "X1_Train = X[:25]\n",
    "y1_Train = y[:25]\n",
    "X1_Test = X[25:39]\n",
    "y1_Test = y[25:39]\n",
    "\n",
    "# For Class B\n",
    "X2_Train = X[39:64]\n",
    "y2_Train = y[39:64]\n",
    "X2_Test = X[64:78]\n",
    "y2_Test = y[64:78]\n",
    "\n",
    "# For Class C\n",
    "X3_Train = X[78:103]\n",
    "y3_Train = y[78:103]\n",
    "X3_Test = X[103:117]\n",
    "y3_Test = y[103:117]\n",
    "\n",
    "# For Class D\n",
    "X4_Train = X[117:142]\n",
    "y4_Train = y[117:142]\n",
    "X4_Test = X[142:156]\n",
    "y4_Test = y[142:156]\n",
    "\n",
    "# For Class E\n",
    "X5_Train = X[156:181]\n",
    "y5_Train = y[156:181]\n",
    "X5_Test = X[181:195]\n",
    "y5_Test = y[181:195]\n",
    "\n",
    "# Stack Training Data\n",
    "X_Train = np.vstack((X1_Train, X2_Train, X3_Train, X4_Train, X5_Train))\n",
    "y_Train = np.hstack((y1_Train, y2_Train, y3_Train, y4_Train, y5_Train))\n",
    "\n",
    "# Stack Test Data\n",
    "X_Test = np.vstack((X1_Test, X2_Test, X3_Test, X4_Test, X5_Test))\n",
    "y_Test = np.hstack((y1_Test, y2_Test, y3_Test, y4_Test, y5_Test))"
   ]
  },
  {
   "cell_type": "markdown",
   "metadata": {},
   "source": [
    "# Step3: Estimate Parameters"
   ]
  },
  {
   "cell_type": "code",
   "execution_count": 4,
   "metadata": {},
   "outputs": [
    {
     "data": {
      "text/plain": [
       "[0.2, 0.2, 0.2, 0.2, 0.2]"
      ]
     },
     "execution_count": 4,
     "metadata": {},
     "output_type": "execute_result"
    }
   ],
   "source": [
    "# Calculate Prior Probabilities\n",
    "class_priors = [np.mean(y == (c + 1)) for c in range(K)]\n",
    "class_priors"
   ]
  },
  {
   "cell_type": "code",
   "execution_count": 5,
   "metadata": {},
   "outputs": [
    {
     "name": "stdout",
     "output_type": "stream",
     "text": [
      "(320,)\n",
      "(320,)\n",
      "(320,)\n",
      "(320,)\n",
      "(320,)\n"
     ]
    }
   ],
   "source": [
    "# Class Densities Individual\n",
    "p1 = [np.mean(X1_Train[:,i]) for i in range(320)]\n",
    "p2 = [np.mean(X2_Train[:,i]) for i in range(320)]\n",
    "p3 = [np.mean(X3_Train[:,i]) for i in range(320)]\n",
    "p4 = [np.mean(X4_Train[:,i]) for i in range(320)]\n",
    "p5 = [np.mean(X5_Train[:,i]) for i in range(320)]\n",
    "print(np.array(p1).shape)\n",
    "print(np.array(p2).shape)\n",
    "print(np.array(p3).shape)\n",
    "print(np.array(p4).shape)\n",
    "print(np.array(p5).shape)"
   ]
  },
  {
   "cell_type": "code",
   "execution_count": 6,
   "metadata": {},
   "outputs": [
    {
     "name": "stdout",
     "output_type": "stream",
     "text": [
      "[[0.   0.   0.   ... 0.68 0.68 0.64]\n",
      " [0.04 0.24 0.24 ... 0.8  0.56 0.24]\n",
      " [0.   0.   0.   ... 0.6  0.88 0.8 ]\n",
      " [0.12 0.44 0.4  ... 0.28 0.16 0.08]\n",
      " [0.   0.12 0.12 ... 0.32 0.48 0.44]]\n"
     ]
    }
   ],
   "source": [
    "# Class Densities\n",
    "P = np.vstack((p1,p2,p3,p4,p5))\n",
    "print(P)"
   ]
  },
  {
   "cell_type": "markdown",
   "metadata": {},
   "source": [
    "# Step4: Draw Parameter Estimations as Images"
   ]
  },
  {
   "cell_type": "code",
   "execution_count": 7,
   "metadata": {},
   "outputs": [],
   "source": [
    "# Make Pixels Size of 20x16\n",
    "p1_img = np.array(p1).reshape(16,20)\n",
    "p2_img = np.array(p2).reshape(16,20)\n",
    "p3_img = np.array(p3).reshape(16,20)\n",
    "p4_img = np.array(p4).reshape(16,20)\n",
    "p5_img = np.array(p5).reshape(16,20)"
   ]
  },
  {
   "cell_type": "code",
   "execution_count": 8,
   "metadata": {},
   "outputs": [
    {
     "data": {
      "image/png": "[encoded data removed]",
      "text/plain": [
       "<Figure size 432x288 with 1 Axes>"
      ]
     },
     "metadata": {
      "needs_background": "light"
     },
     "output_type": "display_data"
    }
   ],
   "source": [
    "# Image for Class A\n",
    "plt.imshow(p1_img.T, 'Greys');"
   ]
  },
  {
   "cell_type": "code",
   "execution_count": 9,
   "metadata": {},
   "outputs": [
    {
     "data": {
      "image/png": "[encoded data removed]",
      "text/plain": [
       "<Figure size 432x288 with 1 Axes>"
      ]
     },
     "metadata": {
      "needs_background": "light"
     },
     "output_type": "display_data"
    }
   ],
   "source": [
    "# Image for Class B\n",
    "plt.imshow(p2_img.T, 'Greys');"
   ]
  },
  {
   "cell_type": "code",
   "execution_count": 10,
   "metadata": {},
   "outputs": [
    {
     "data": {
      "image/png": "[encoded data removed]",
      "text/plain": [
       "<Figure size 432x288 with 1 Axes>"
      ]
     },
     "metadata": {
      "needs_background": "light"
     },
     "output_type": "display_data"
    }
   ],
   "source": [
    "# Image for Class C\n",
    "plt.imshow(p3_img.T, 'Greys');"
   ]
  },
  {
   "cell_type": "code",
   "execution_count": 11,
   "metadata": {},
   "outputs": [
    {
     "data": {
      "image/png": "[encoded data removed]",
      "text/plain": [
       "<Figure size 432x288 with 1 Axes>"
      ]
     },
     "metadata": {
      "needs_background": "light"
     },
     "output_type": "display_data"
    }
   ],
   "source": [
    "# Image for Class D\n",
    "plt.imshow(p4_img.T, 'Greys');"
   ]
  },
  {
   "cell_type": "code",
   "execution_count": 12,
   "metadata": {},
   "outputs": [
    {
     "data": {
      "image/png": "[encoded data removed]",
      "text/plain": [
       "<Figure size 432x288 with 1 Axes>"
      ]
     },
     "metadata": {
      "needs_background": "light"
     },
     "output_type": "display_data"
    }
   ],
   "source": [
    "# Image for Class E\n",
    "plt.imshow(p5_img.T, 'Greys');"
   ]
  },
  {
   "cell_type": "markdown",
   "metadata": {},
   "source": [
    "# Step5: Calculate the Confusion Matrix for Training Set"
   ]
  },
  {
   "cell_type": "markdown",
   "metadata": {},
   "source": [
    "\\begin{align*}\n",
    "g_{i}(x) = \\log p(x | C_i) + \\log P(C_i)\\\\\n",
    "g_{i}(x) =\\sum\\limits_{j} \\left[ x_{j}\\log p_{ij}+ (1 - x_{j}) \\log(1 - {p}_{ij}) \\right] + \\log P(C_i)\n",
    "\\end{align*}"
   ]
  },
  {
   "cell_type": "code",
   "execution_count": 13,
   "metadata": {},
   "outputs": [
    {
     "data": {
      "text/plain": [
       "(125, 5)"
      ]
     },
     "execution_count": 13,
     "metadata": {},
     "output_type": "execute_result"
    }
   ],
   "source": [
    "# Discriminant Function for Class A\n",
    "g_Train10=[]\n",
    "g_Train11=[]\n",
    "g_Train12=[]\n",
    "g_Train13=[]\n",
    "g_Train14=[]\n",
    "for i in range(25):\n",
    "    g_Train10.append(np.sum([(X1_Train[i][j]*safelog(p1[j]) + (1-X1_Train[i][j])*safelog(1-p1[j])) for j in range(320)]))\n",
    "    g_Train11.append(np.sum([(X1_Train[i][j]*safelog(p2[j]) + (1-X1_Train[i][j])*safelog(1-p2[j])) for j in range(320)]))\n",
    "    g_Train12.append(np.sum([(X1_Train[i][j]*safelog(p3[j]) + (1-X1_Train[i][j])*safelog(1-p3[j])) for j in range(320)]))\n",
    "    g_Train13.append(np.sum([(X1_Train[i][j]*safelog(p4[j]) + (1-X1_Train[i][j])*safelog(1-p4[j])) for j in range(320)]))\n",
    "    g_Train14.append(np.sum([(X1_Train[i][j]*safelog(p5[j]) + (1-X1_Train[i][j])*safelog(1-p5[j])) for j in range(320)]))\n",
    "    \n",
    "g1_Train=np.stack((g_Train10, g_Train11, g_Train12, g_Train13, g_Train14)).T\n",
    "\n",
    "# Discriminant Function for Class B\n",
    "g_Train20=[]\n",
    "g_Train21=[]\n",
    "g_Train22=[]\n",
    "g_Train23=[]\n",
    "g_Train24=[]\n",
    "for i in range(25):\n",
    "    g_Train20.append(np.sum([(X2_Train[i][j]*safelog(p1[j]) + (1-X2_Train[i][j])*safelog(1-p1[j])) for j in range(320)]))\n",
    "    g_Train21.append(np.sum([(X2_Train[i][j]*safelog(p2[j]) + (1-X2_Train[i][j])*safelog(1-p2[j])) for j in range(320)]))\n",
    "    g_Train22.append(np.sum([(X2_Train[i][j]*safelog(p3[j]) + (1-X2_Train[i][j])*safelog(1-p3[j])) for j in range(320)]))\n",
    "    g_Train23.append(np.sum([(X2_Train[i][j]*safelog(p4[j]) + (1-X2_Train[i][j])*safelog(1-p4[j])) for j in range(320)]))\n",
    "    g_Train24.append(np.sum([(X2_Train[i][j]*safelog(p5[j]) + (1-X2_Train[i][j])*safelog(1-p5[j])) for j in range(320)]))\n",
    "    \n",
    "g2_Train = np.vstack((g_Train20, g_Train21, g_Train22, g_Train23, g_Train24)).T\n",
    "\n",
    "# Discriminant Function for Class C\n",
    "g_Train30=[]\n",
    "g_Train31=[]\n",
    "g_Train32=[]\n",
    "g_Train33=[]\n",
    "g_Train34=[]\n",
    "for i in range(25):\n",
    "    g_Train30.append(np.sum([(X3_Train[i][j]*safelog(p1[j]) + (1-X3_Train[i][j])*safelog(1-p1[j])) for j in range(320)]))\n",
    "    g_Train31.append(np.sum([(X3_Train[i][j]*safelog(p2[j]) + (1-X3_Train[i][j])*safelog(1-p2[j])) for j in range(320)]))\n",
    "    g_Train32.append(np.sum([(X3_Train[i][j]*safelog(p3[j]) + (1-X3_Train[i][j])*safelog(1-p3[j])) for j in range(320)]))\n",
    "    g_Train33.append(np.sum([(X3_Train[i][j]*safelog(p4[j]) + (1-X3_Train[i][j])*safelog(1-p4[j])) for j in range(320)]))\n",
    "    g_Train34.append(np.sum([(X3_Train[i][j]*safelog(p5[j]) + (1-X3_Train[i][j])*safelog(1-p5[j])) for j in range(320)]))\n",
    "    \n",
    "g3_Train = np.vstack((g_Train30, g_Train31, g_Train32, g_Train33, g_Train34)).T\n",
    "\n",
    "# Discriminant Function for Class D\n",
    "g_Train40=[]\n",
    "g_Train41=[]\n",
    "g_Train42=[]\n",
    "g_Train43=[]\n",
    "g_Train44=[]\n",
    "for i in range(25):\n",
    "    g_Train40.append(np.sum([(X4_Train[i][j]*safelog(p1[j]) + (1-X4_Train[i][j])*safelog(1-p1[j])) for j in range(320)]))\n",
    "    g_Train41.append(np.sum([(X4_Train[i][j]*safelog(p2[j]) + (1-X4_Train[i][j])*safelog(1-p2[j])) for j in range(320)]))\n",
    "    g_Train42.append(np.sum([(X4_Train[i][j]*safelog(p3[j]) + (1-X4_Train[i][j])*safelog(1-p3[j])) for j in range(320)]))\n",
    "    g_Train43.append(np.sum([(X4_Train[i][j]*safelog(p4[j]) + (1-X4_Train[i][j])*safelog(1-p4[j])) for j in range(320)]))\n",
    "    g_Train44.append(np.sum([(X4_Train[i][j]*safelog(p5[j]) + (1-X4_Train[i][j])*safelog(1-p5[j])) for j in range(320)]))\n",
    "    \n",
    "g4_Train = np.vstack((g_Train40, g_Train41, g_Train42, g_Train43, g_Train44)).T\n",
    "\n",
    "# Discriminant Function for Class E\n",
    "g_Train50=[]\n",
    "g_Train51=[]\n",
    "g_Train52=[]\n",
    "g_Train53=[]\n",
    "g_Train54=[]\n",
    "for i in range(25):\n",
    "    g_Train50.append(np.sum([(X5_Train[i][j]*safelog(p1[j]) + (1-X5_Train[i][j])*safelog(1-p1[j])) for j in range(320)]))\n",
    "    g_Train51.append(np.sum([(X5_Train[i][j]*safelog(p2[j]) + (1-X5_Train[i][j])*safelog(1-p2[j])) for j in range(320)]))\n",
    "    g_Train52.append(np.sum([(X5_Train[i][j]*safelog(p3[j]) + (1-X5_Train[i][j])*safelog(1-p3[j])) for j in range(320)]))\n",
    "    g_Train53.append(np.sum([(X5_Train[i][j]*safelog(p4[j]) + (1-X5_Train[i][j])*safelog(1-p4[j])) for j in range(320)]))\n",
    "    g_Train54.append(np.sum([(X5_Train[i][j]*safelog(p5[j]) + (1-X5_Train[i][j])*safelog(1-p5[j])) for j in range(320)]))\n",
    "    \n",
    "g5_Train = np.vstack((g_Train50, g_Train51, g_Train52, g_Train53, g_Train54)).T\n",
    "\n",
    "# Stack Different Class Sets\n",
    "y_hat1 = np.vstack((g1_Train, g2_Train, g3_Train, g4_Train, g5_Train))\n",
    "y_hat1.shape"
   ]
  },
  {
   "cell_type": "code",
   "execution_count": 14,
   "metadata": {},
   "outputs": [
    {
     "name": "stdout",
     "output_type": "stream",
     "text": [
      "y_train       1   2   3   4   5\n",
      "y_predicted                    \n",
      "0            25   0   0   0   0\n",
      "1             0  24   1   0   1\n",
      "2             0   0  24   0   0\n",
      "3             0   1   0  25   0\n",
      "4             0   0   0   0  24\n"
     ]
    }
   ],
   "source": [
    "# Confusion Matrix for Training Data\n",
    "y_predicted1 = np.argmax(y_hat1, axis=1)\n",
    "confusion_matrix = pd.crosstab(y_predicted1, y_Train, rownames = ['y_predicted'], colnames = ['y_train'])\n",
    "print(confusion_matrix)"
   ]
  },
  {
   "cell_type": "markdown",
   "metadata": {},
   "source": [
    "# Step6: Calculate the Confusion Matrix for Test Set"
   ]
  },
  {
   "cell_type": "code",
   "execution_count": 15,
   "metadata": {},
   "outputs": [
    {
     "data": {
      "text/plain": [
       "(70, 5)"
      ]
     },
     "execution_count": 15,
     "metadata": {},
     "output_type": "execute_result"
    }
   ],
   "source": [
    "# Discriminant Function for Class A\n",
    "g_Test10=[]\n",
    "g_Test11=[]\n",
    "g_Test12=[]\n",
    "g_Test13=[]\n",
    "g_Test14=[]\n",
    "for i in range(14):\n",
    "    g_Test10.append(np.sum([(X1_Test[i][j]*safelog(p1[j]) + (1-X1_Test[i][j])*safelog(1-p1[j])) for j in range(320)]))\n",
    "    g_Test11.append(np.sum([(X1_Test[i][j]*safelog(p2[j]) + (1-X1_Test[i][j])*safelog(1-p2[j])) for j in range(320)]))\n",
    "    g_Test12.append(np.sum([(X1_Test[i][j]*safelog(p3[j]) + (1-X1_Test[i][j])*safelog(1-p3[j])) for j in range(320)]))\n",
    "    g_Test13.append(np.sum([(X1_Test[i][j]*safelog(p4[j]) + (1-X1_Test[i][j])*safelog(1-p4[j])) for j in range(320)]))\n",
    "    g_Test14.append(np.sum([(X1_Test[i][j]*safelog(p5[j]) + (1-X1_Test[i][j])*safelog(1-p5[j])) for j in range(320)]))\n",
    "    \n",
    "g1_Test=np.stack((g_Test10, g_Test11, g_Test12, g_Test13, g_Test14)).T\n",
    "\n",
    "# Discriminant Function for Class B\n",
    "g_Test20=[]\n",
    "g_Test21=[]\n",
    "g_Test22=[]\n",
    "g_Test23=[]\n",
    "g_Test24=[]\n",
    "for i in range(14):\n",
    "    g_Test20.append(np.sum([(X2_Test[i][j]*safelog(p1[j]) + (1-X2_Test[i][j])*safelog(1-p1[j])) for j in range(320)]))\n",
    "    g_Test21.append(np.sum([(X2_Test[i][j]*safelog(p2[j]) + (1-X2_Test[i][j])*safelog(1-p2[j])) for j in range(320)]))\n",
    "    g_Test22.append(np.sum([(X2_Test[i][j]*safelog(p3[j]) + (1-X2_Test[i][j])*safelog(1-p3[j])) for j in range(320)]))\n",
    "    g_Test23.append(np.sum([(X2_Test[i][j]*safelog(p4[j]) + (1-X2_Test[i][j])*safelog(1-p4[j])) for j in range(320)]))\n",
    "    g_Test24.append(np.sum([(X2_Test[i][j]*safelog(p5[j]) + (1-X2_Test[i][j])*safelog(1-p5[j])) for j in range(320)]))\n",
    "    \n",
    "g2_Test = np.vstack((g_Test20, g_Test21, g_Test22, g_Test23, g_Test24)).T\n",
    "\n",
    "# Discriminant Function for Class C\n",
    "g_Test30=[]\n",
    "g_Test31=[]\n",
    "g_Test32=[]\n",
    "g_Test33=[]\n",
    "g_Test34=[]\n",
    "for i in range(14):\n",
    "    g_Test30.append(np.sum([(X3_Test[i][j]*safelog(p1[j]) + (1-X3_Test[i][j])*safelog(1-p1[j])) for j in range(320)]))\n",
    "    g_Test31.append(np.sum([(X3_Test[i][j]*safelog(p2[j]) + (1-X3_Test[i][j])*safelog(1-p2[j])) for j in range(320)]))\n",
    "    g_Test32.append(np.sum([(X3_Test[i][j]*safelog(p3[j]) + (1-X3_Test[i][j])*safelog(1-p3[j])) for j in range(320)]))\n",
    "    g_Test33.append(np.sum([(X3_Test[i][j]*safelog(p4[j]) + (1-X3_Test[i][j])*safelog(1-p4[j])) for j in range(320)]))\n",
    "    g_Test34.append(np.sum([(X3_Test[i][j]*safelog(p5[j]) + (1-X3_Test[i][j])*safelog(1-p5[j])) for j in range(320)]))\n",
    "    \n",
    "g3_Test = np.vstack((g_Test30, g_Test31, g_Test32, g_Test33, g_Test34)).T\n",
    "\n",
    "# Discriminant Function for Class D\n",
    "g_Test40=[]\n",
    "g_Test41=[]\n",
    "g_Test42=[]\n",
    "g_Test43=[]\n",
    "g_Test44=[]\n",
    "for i in range(14):\n",
    "    g_Test40.append(np.sum([(X4_Test[i][j]*safelog(p1[j]) + (1-X4_Test[i][j])*safelog(1-p1[j])) for j in range(320)]))\n",
    "    g_Test41.append(np.sum([(X4_Test[i][j]*safelog(p2[j]) + (1-X4_Test[i][j])*safelog(1-p2[j])) for j in range(320)]))\n",
    "    g_Test42.append(np.sum([(X4_Test[i][j]*safelog(p3[j]) + (1-X4_Test[i][j])*safelog(1-p3[j])) for j in range(320)]))\n",
    "    g_Test43.append(np.sum([(X4_Test[i][j]*safelog(p4[j]) + (1-X4_Test[i][j])*safelog(1-p4[j])) for j in range(320)]))\n",
    "    g_Test44.append(np.sum([(X4_Test[i][j]*safelog(p5[j]) + (1-X4_Test[i][j])*safelog(1-p5[j])) for j in range(320)]))\n",
    "    \n",
    "g4_Test = np.vstack((g_Test40, g_Test41, g_Test42, g_Test43, g_Test44)).T\n",
    "\n",
    "# Discriminant Function for Class E\n",
    "g_Test50=[]\n",
    "g_Test51=[]\n",
    "g_Test52=[]\n",
    "g_Test53=[]\n",
    "g_Test54=[]\n",
    "for i in range(14):\n",
    "    g_Test50.append(np.sum([(X5_Test[i][j]*safelog(p1[j]) + (1-X5_Test[i][j])*safelog(1-p1[j])) for j in range(320)]))\n",
    "    g_Test51.append(np.sum([(X5_Test[i][j]*safelog(p2[j]) + (1-X5_Test[i][j])*safelog(1-p2[j])) for j in range(320)]))\n",
    "    g_Test52.append(np.sum([(X5_Test[i][j]*safelog(p3[j]) + (1-X5_Test[i][j])*safelog(1-p3[j])) for j in range(320)]))\n",
    "    g_Test53.append(np.sum([(X5_Test[i][j]*safelog(p4[j]) + (1-X5_Test[i][j])*safelog(1-p4[j])) for j in range(320)]))\n",
    "    g_Test54.append(np.sum([(X5_Test[i][j]*safelog(p5[j]) + (1-X5_Test[i][j])*safelog(1-p5[j])) for j in range(320)]))\n",
    "    \n",
    "g5_Test = np.vstack((g_Test50, g_Test51, g_Test52, g_Test53, g_Test54)).T\n",
    "\n",
    "# Stack Different Class Sets\n",
    "y_hat2 = np.vstack((g1_Test, g2_Test, g3_Test, g4_Test, g5_Test))\n",
    "y_hat2.shape"
   ]
  },
  {
   "cell_type": "code",
   "execution_count": 16,
   "metadata": {},
   "outputs": [
    {
     "name": "stdout",
     "output_type": "stream",
     "text": [
      "y_test       1   2  3   4   5\n",
      "y_predicted                  \n",
      "0            7   0  0   0   0\n",
      "1            0  11  3   2   4\n",
      "2            0   0  7   0   0\n",
      "3            7   3  3  12   0\n",
      "4            0   0  1   0  10\n"
     ]
    }
   ],
   "source": [
    "# Confusion Matrix for Test Data\n",
    "y_predicted2 = np.argmax(y_hat2, axis=1)\n",
    "confusion_matrix = pd.crosstab(y_predicted2, y_Test, rownames = ['y_predicted'], colnames = ['y_test'])\n",
    "print(confusion_matrix)"
   ]
  },
  {
   "cell_type": "code",
   "execution_count": null,
   "metadata": {},
   "outputs": [],
   "source": []
  }
 ],
 "metadata": {
  "kernelspec": {
   "display_name": "Python 3",
   "language": "python",
   "name": "python3"
  },
  "language_info": {
   "codemirror_mode": {
    "name": "ipython",
    "version": 3
   },
   "file_extension": ".py",
   "mimetype": "text/x-python",
   "name": "python",
   "nbconvert_exporter": "python",
   "pygments_lexer": "ipython3",
   "version": "3.8.5"
  }
 },
 "nbformat": 4,
 "nbformat_minor": 4
}
